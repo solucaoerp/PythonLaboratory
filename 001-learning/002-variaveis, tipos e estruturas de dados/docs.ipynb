{
 "cells": [
  {
   "cell_type": "markdown",
   "metadata": {},
   "source": [
    "### Modos de execução de programas em Python\n",
    "- Modo Shell\n",
    "- Modo Script (arquivos com extensão .py)\n",
    "- Modo interativo (Jupyter Notebook)"
   ]
  },
  {
   "cell_type": "markdown",
   "metadata": {},
   "source": [
    "Números e operações matemáticas\n",
    "\n",
    "- int   = -7, 7\n",
    "- float = -7.1, 7.1"
   ]
  },
  {
   "cell_type": "markdown",
   "metadata": {},
   "source": [
    "Para identificar o tipo de uma variável, use:\n",
    "- type()"
   ]
  },
  {
   "cell_type": "markdown",
   "metadata": {},
   "source": [
    "Para usar conversão de números, use:\n",
    "- int()\n",
    "- float()"
   ]
  },
  {
   "cell_type": "markdown",
   "metadata": {},
   "source": [
    "Documentação\n",
    "- [The Python Standard Library](https://docs.python.org/3.9/library/index.html)\n",
    "- [Built-in Functions](https://docs.python.org/3.9/library/functions.html)\n",
    "- [Operator - Standard operators as functions](https://docs.python.org/3.9/library/operator.html)\n",
    "- [Python Arithmetic Operators](https://www.w3schools.com/python/gloss_python_arithmetic_operators.asp)\n",
    "- [Assignment Operators (operadores de atribuição)](https://www.w3schools.com/python/gloss_python_assignment_operators.asp)"
   ]
  },
  {
   "cell_type": "code",
   "execution_count": null,
   "metadata": {},
   "outputs": [],
   "source": []
  }
 ],
 "metadata": {
  "kernelspec": {
   "display_name": "Python 3.9.7 ('base')",
   "language": "python",
   "name": "python3"
  },
  "language_info": {
   "name": "python",
   "version": "3.9.7"
  },
  "orig_nbformat": 4,
  "vscode": {
   "interpreter": {
    "hash": "f4c0fc474194c9464643f2ab1943bac9d41488fac94e66b1b0b365a0836334ba"
   }
  }
 },
 "nbformat": 4,
 "nbformat_minor": 2
}
