{
 "cells": [
  {
   "cell_type": "markdown",
   "metadata": {},
   "source": [
    "### Operadores relacionais\n",
    "\n",
    "Tabela dos operadores relacionais\n",
    "\n",
    "Descrição   | Operador\n",
    "--------- | ------\n",
    "Maior que | >\n",
    "Menor que | <\n",
    "Igual a | ==\n",
    "Maior ou igual a | >=\n",
    "Menor ou igual a | <=\n",
    "\n",
    "Operadores relacionais simples\n",
    "\n",
    "Descrição   | Operador\n",
    "--------- | ------\n",
    "Maior que | >\n",
    "Menor que | <\n",
    "Igual a | ==\n"
   ]
  },
  {
   "cell_type": "code",
   "execution_count": 30,
   "metadata": {},
   "outputs": [
    {
     "name": "stdout",
     "output_type": "stream",
     "text": [
      "False\n",
      "False\n",
      "True\n",
      "True\n"
     ]
    }
   ],
   "source": [
    "print( 1 > 2 )\n",
    "print( \"a\" > \"b\" )\n",
    "print( 5 < 10 )\n",
    "print (200 == 200 )"
   ]
  },
  {
   "cell_type": "code",
   "execution_count": 31,
   "metadata": {},
   "outputs": [
    {
     "name": "stdout",
     "output_type": "stream",
     "text": [
      "False\n"
     ]
    }
   ],
   "source": [
    "a = 10\n",
    "b = 5\n",
    "\n",
    "print(b == a)"
   ]
  },
  {
   "cell_type": "code",
   "execution_count": 32,
   "metadata": {},
   "outputs": [
    {
     "name": "stdout",
     "output_type": "stream",
     "text": [
      "True\n",
      "True\n"
     ]
    }
   ],
   "source": [
    "print( 1 == 1 ) # essa expressão equivale a expressão seguinte\n",
    "print( (1 == 1) == True )"
   ]
  },
  {
   "cell_type": "code",
   "execution_count": 33,
   "metadata": {},
   "outputs": [
    {
     "name": "stdout",
     "output_type": "stream",
     "text": [
      "True\n",
      "True\n",
      "True\n",
      "True\n",
      "True\n",
      "True\n"
     ]
    }
   ],
   "source": [
    "print( (1 == 1) == 1 )\n",
    "print( (1 == 1) == True )\n",
    "print( (1 > 1) == 0 )\n",
    "print( (1 > 1) == False )\n",
    "\n",
    "print( 1 == True )\n",
    "print( 0 == False )"
   ]
  },
  {
   "cell_type": "code",
   "execution_count": 34,
   "metadata": {},
   "outputs": [
    {
     "name": "stdout",
     "output_type": "stream",
     "text": [
      "A variável 'x' contém caracteres \n"
     ]
    }
   ],
   "source": [
    "x = \"\"\n",
    "if(x):\n",
    "    print(\"O valor de x é igual a vazio\")\n",
    "else:\n",
    "    print(\"A variável 'x' contém caracteres \")"
   ]
  },
  {
   "cell_type": "code",
   "execution_count": 35,
   "metadata": {},
   "outputs": [
    {
     "name": "stdout",
     "output_type": "stream",
     "text": [
      "condição 001\n"
     ]
    }
   ],
   "source": [
    "a = 5\n",
    "if(a==5):\n",
    "    print(\"condição 001\")\n",
    "elif(\"dd\"):\n",
    "    print(\"condição 002\")\n",
    "else:\n",
    "    print(\"condição 003\")"
   ]
  }
 ],
 "metadata": {
  "kernelspec": {
   "display_name": "Python 3.9.7 ('base')",
   "language": "python",
   "name": "python3"
  },
  "language_info": {
   "codemirror_mode": {
    "name": "ipython",
    "version": 3
   },
   "file_extension": ".py",
   "mimetype": "text/x-python",
   "name": "python",
   "nbconvert_exporter": "python",
   "pygments_lexer": "ipython3",
   "version": "3.9.7"
  },
  "orig_nbformat": 4,
  "vscode": {
   "interpreter": {
    "hash": "f4c0fc474194c9464643f2ab1943bac9d41488fac94e66b1b0b365a0836334ba"
   }
  }
 },
 "nbformat": 4,
 "nbformat_minor": 2
}
