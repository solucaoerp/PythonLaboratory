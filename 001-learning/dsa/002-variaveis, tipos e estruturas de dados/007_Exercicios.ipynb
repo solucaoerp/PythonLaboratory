{
 "cells": [
  {
   "cell_type": "markdown",
   "metadata": {},
   "source": [
    "### Versão da Linguagem Python"
   ]
  },
  {
   "cell_type": "code",
   "execution_count": 912,
   "metadata": {},
   "outputs": [
    {
     "name": "stdout",
     "output_type": "stream",
     "text": [
      "Versão da Linguagem Python Usada Neste Jupyter Notebook: 3.9.7\n"
     ]
    }
   ],
   "source": [
    "from platform import python_version\n",
    "\n",
    "print('Versão da Linguagem Python Usada Neste Jupyter Notebook:', python_version())"
   ]
  },
  {
   "cell_type": "markdown",
   "metadata": {},
   "source": [
    "### Exercícios"
   ]
  },
  {
   "cell_type": "code",
   "execution_count": 913,
   "metadata": {},
   "outputs": [
    {
     "name": "stdout",
     "output_type": "stream",
     "text": [
      "[1, 2, 3, 4, 5, 6, 7, 8, 9, 10]\n",
      "<class 'list'>\n",
      "10\n",
      "5\n",
      "[1, 2, 3, 4, 12, 20, 6, 7, 8, 9, 10, 11]\n",
      "[1, 2, 3, 4, 6, 7, 8, 9, 10, 11]\n"
     ]
    }
   ],
   "source": [
    "# Exercício 1 - Imprima na tela os números de 1 a 10. Use uma lista para armazenar os números.\n",
    "\"\"\" Resposta: \n",
    "    É uma coleção de valores indexada, em que cada valor é identificado por um índice. \n",
    "    O primeiro item na lista está no índice 0, o segundo no índice 1 e assim por diante...\n",
    "    Para criar uma lista de elementos, devemos utilizar colchetes e adicionar os itens entre eles separados por vírgula.\n",
    "    Características da lista: são mutáveis, podem ser alteradas depois de ter sido criadas\n",
    "\"\"\"\n",
    "\n",
    "numeros = [1, 2, 3, 4, 5, 6, 7, 8, 9, 10]\n",
    "\n",
    "print(numeros)       # renderiza a lista completa\n",
    "print(type(numeros)) # retorna o tipo da variável ‘list’\n",
    "print(len(numeros))  # retorna quantos elementos compoem a lista\n",
    "print(numeros[4])    # retorna qual o elemento na posição informada\n",
    "\n",
    "# Alterando o valor de uma lista\n",
    "numeros[4] = 20      # altera o elemento/índice na posição 4 [5 -> 20]\n",
    "\n",
    "# Adicionando elementos à lista utilizando o append() = insere na sequência, final da lista\n",
    "numeros.append(11)   # adiciona o elemento 11 à lista\n",
    "\n",
    "# Adicionando elementos à lista utilizando o insert() = informa em qual posição deseja inserir\n",
    "numeros.insert(4, 12)   # adiciona o elemento 12 à lista\n",
    "\n",
    "print(numeros)\n",
    "\n",
    "# Removendo elementos da lista utilizando o remove() = remoção pelo valor informado no parâmetro\n",
    "numeros.remove(12)      # remove o elemento [12] especificado entre parêntese\n",
    "\n",
    "# Removendo elementos da lista utilizando o pop() = remoção pelo índice do elemento\n",
    "numeros.pop(4)          # remove o elemento informado na posição/índice [4] da lista\n",
    "\n",
    "print(numeros)"
   ]
  },
  {
   "cell_type": "code",
   "execution_count": 914,
   "metadata": {},
   "outputs": [
    {
     "name": "stdout",
     "output_type": "stream",
     "text": [
      "['Charles', 'Borges', 'Fortaleza', 'CE', 'Brasil']\n"
     ]
    }
   ],
   "source": [
    "# Exercício 2 - Crie uma lista de 5 objetos e imprima na tela\n",
    "# Corrigindo a escrita: Crie uma lista com 5 elementos e imprima na tela\n",
    "\n",
    "elementos = [\"Charles\", \"Borges\", \"Fortaleza\", \"CE\", \"Brasil\"]\n",
    "\n",
    "print(elementos)"
   ]
  },
  {
   "cell_type": "code",
   "execution_count": 915,
   "metadata": {},
   "outputs": [
    {
     "name": "stdout",
     "output_type": "stream",
     "text": [
      "Charles Borges\n"
     ]
    }
   ],
   "source": [
    "# Exercício 3 - Crie duas strings e concatene as duas em uma terceira string\n",
    "frase1 = \"Charles\"\n",
    "frase2 = \"Borges\"\n",
    "fraseFinal = frase1 + \" \" + frase2\n",
    "\n",
    "print(fraseFinal)"
   ]
  },
  {
   "cell_type": "code",
   "execution_count": 916,
   "metadata": {},
   "outputs": [
    {
     "name": "stdout",
     "output_type": "stream",
     "text": [
      "Elementos da Tupla: (1, 2, 2, 3, 4, 4, 4, 5)\n",
      "Qtd. elemento 4 = 3\n",
      "Qtd. elemento 4 = 3\n",
      "Acessando o elemento na posição/índice [1] = 2\n",
      "<class 'str'>\n",
      "<class 'tuple'>\n",
      "Charles\n",
      "('Charles',)\n"
     ]
    }
   ],
   "source": [
    "# Exercício 4 - Crie uma tupla com os seguintes elementos: 1, 2, 2, 3, 4, 4, 4, 5 e depois utilize a função count do \n",
    "# objeto tupla para verificar quantas vezes o número 4 aparece na tupla\n",
    "\"\"\" Resposta: \n",
    "    Estrutura de dados semelhante a lista, porém, é imutável, ou seja, após ser criada, ela não pode ser alterada.\n",
    "    A tupla é delimitada por parênteses na sua sintaxe.\n",
    "    As tuplas devem ser usadas em situações em que não haverá necessidade de adicionar, remover ou alterar elementos de um grupo de itens.\n",
    "    Exemplos: meses do ano, dias da semana, estações do ano, etc.\n",
    "\"\"\"\n",
    "\n",
    "tupla = (1, 2, 2, 3, 4, 4, 4, 5)\n",
    "\n",
    "Resultado = tupla.count(4)\n",
    "\n",
    "print(\"Elementos da Tupla: \" + str(tupla))        # elementos da tupla com typecast direto no output \n",
    "print(\"Qtd. elemento 4 = \" + str(tupla.count(4))) # com typecast direto no output\n",
    "print(\"Qtd. elemento 4 = \" + str(Resultado))      # recuperando de uma varíavel\n",
    "\n",
    "# Assim com na lista, também podemos acessar um determinado valor na tupla pelo seu índice\n",
    "print(\"Acessando o elemento na posição/índice [1] = \" + str(tupla[1]))      # recuperando de uma varíavel\n",
    "\n",
    "\"\"\" Complementando o entendimento de Tupla:\n",
    "    Uma observação a ser feita no uso de uma tupla é que se ela tiver um único item, é necessário colocar uma vírgula depois dele, \n",
    "    pois caso contrário, o objeto que vamos obter é uma string, porque o valor do item é do tipo string.\n",
    "\"\"\"\n",
    "\n",
    "objeto_string = (\"Charles\")\n",
    "objeto_tupla = (\"Charles\",)\n",
    "\n",
    "print(type(objeto_string)) # class 'str'\n",
    "print(type(objeto_tupla))  # class 'tuple'\n",
    "\n",
    "print(objeto_string)\n",
    "print(objeto_tupla)\n",
    "\n"
   ]
  },
  {
   "cell_type": "code",
   "execution_count": 917,
   "metadata": {},
   "outputs": [
    {
     "name": "stdout",
     "output_type": "stream",
     "text": [
      "Dicionário vazio: {}\n",
      "O valor da chave Nome, do objeto 0 (zero), é: Charles Borges\n",
      "O valor da chave Nome, do objeto 1 (um), é: Robson Silva e Silva\n"
     ]
    }
   ],
   "source": [
    "# Exercício 5 - Crie um dicionário vazio e imprima na tela\n",
    "\"\"\" Resposta: \n",
    "    A estrutura de um dicionário é delimitada por chaves, entre as quais ficam o conteúdo desse objeto.\n",
    "    Representam coleções de dados que contém na sua estrutura um conjunto de pares {chave/valor}, nos quais cada chave individual tem um valor associado.\n",
    "    Representa a ideia de um mapa, que entendemos como uma coleção associativa desordenada.\n",
    "    A associação nos dicionários é feita por meio de uma chave que faz referência a um valor.\n",
    "\"\"\"\n",
    "\n",
    "dicionarioVazio = {}\n",
    "\n",
    "print(\"Dicionário vazio: \" + str(dicionarioVazio))\n",
    "\n",
    "pessoa = [{\"Nome\": \"Charles Borges\", \"Endereco\": \"Av. XYZ, n.º 1000\", \"Telefone\": \"85 9 0000-0122\"}, \n",
    "         {\"Nome\": \"Robson Silva e Silva\", \"Endereco\": \"Rua Carnauba, s/n\", \"Telefone\": \"11 9 1111-0000\"}]\n",
    "\n",
    "print(\"O valor da chave Nome, do objeto 0 (zero), é: \" + pessoa[0]['Nome'])\n",
    "print(\"O valor da chave Nome, do objeto 1 (um), é: \" + pessoa[1]['Nome'])"
   ]
  },
  {
   "cell_type": "code",
   "execution_count": 918,
   "metadata": {},
   "outputs": [
    {
     "name": "stdout",
     "output_type": "stream",
     "text": [
      "Dicionário completo: {'Nome': 'Charles Borges', 'Idade': 33, 'Cidade': 'Fortaleza/CE'}\n",
      "Valor da chave Nome: Charles Borges\n",
      "Valor da chave Idade: 33\n",
      "Valor da chave Cidade: Fortaleza/CE\n"
     ]
    }
   ],
   "source": [
    "# Exercício 6 - Crie um dicionário com 3 chaves e 3 valores e imprima na tela\n",
    "\n",
    "pessoa = {\"Nome\": \"Charles Borges\", \"Idade\": 33, \"Cidade\": \"Fortaleza/CE\"}\n",
    "\n",
    "print(\"Dicionário completo: \" + str(pessoa)) # imprime o dicionário completo\n",
    "print(\"Valor da chave Nome: \" + pessoa[\"Nome\"])             # imprime o valor da chave Nome\n",
    "print(\"Valor da chave Idade: \" + str(pessoa[\"Idade\"]))      # imprime o valor da chave Idade\n",
    "print(\"Valor da chave Cidade: \" + pessoa[\"Cidade\"])         # imprime o valor da chave Cidade"
   ]
  },
  {
   "cell_type": "code",
   "execution_count": 919,
   "metadata": {},
   "outputs": [
    {
     "name": "stdout",
     "output_type": "stream",
     "text": [
      "{'Nome': 'Charles Borges', 'Idade': 33, 'Cidade': 'Fortaleza/CE', 'Telefone': 85988222233}\n",
      "{'Nome': 'Charles Borges', 'Idade': 33, 'Cidade': 'Fortaleza/CE'}\n"
     ]
    }
   ],
   "source": [
    "# Exercício 7 - Adicione mais um elemento ao dicionário criado no exercício anterior e imprima na tela\n",
    "\n",
    "# Para adicionar elementos num dicionário basta associar uma nova chave ao objeto e dar um valor a ser associado a ela.\n",
    "\n",
    "pessoa[\"Telefone\"] = 85988222233 # adiciona um novo par chave/valor ao objeto pessoa\n",
    "\n",
    "print(pessoa)\n",
    "\n",
    "# Para remover um par chave/valor do dicionário, podemos usar o método pop()\n",
    "# O None serve para que a mensagem de erro KeyError não apareça devido a remoção de uma chave inexistente\n",
    "pessoa.pop(\"Telefone\", None) # adiciona um novo par chave/valor ao objeto pessoa\n",
    "\n",
    "print(pessoa)"
   ]
  },
  {
   "cell_type": "code",
   "execution_count": 920,
   "metadata": {},
   "outputs": [
    {
     "name": "stdout",
     "output_type": "stream",
     "text": [
      "{'Nome': 'Charles Borges', 'Idade': 33, 'Lista': [7, 13]}\n"
     ]
    }
   ],
   "source": [
    "# Exercício 8 - Crie um dicionário com 3 chaves e 3 valores. Um dos valores deve ser uma lista de 2 elementos numéricos. \n",
    "# Imprima o dicionário na tela.\n",
    "\n",
    "dicionario = {\"Nome\": \"Charles Borges\", \"Idade\": 33, \"Lista\":[7, 13]}\n",
    "\n",
    "print(dicionario)\n"
   ]
  },
  {
   "cell_type": "code",
   "execution_count": 921,
   "metadata": {},
   "outputs": [
    {
     "name": "stdout",
     "output_type": "stream",
     "text": [
      "['Charles', ('A', 'B'), {'chave01': 1, 'chave02': 2}, 2.5]\n"
     ]
    }
   ],
   "source": [
    "# Exercício 9 - Crie uma lista de 4 elementos. O primeiro elemento deve ser uma string, \n",
    "# o segundo uma tupla de 2 elementos, o terceiro um dcionário com 2 chaves e 2 valores e \n",
    "# o quarto elemento um valor do tipo float.\n",
    "# Imprima a lista na tela.\n",
    "\n",
    "novaLista = [\"Charles\", (\"A\", \"B\"), {\"chave01\": 1, \"chave02\": 2}, 2.5]\n",
    "\n",
    "print(novaLista)"
   ]
  },
  {
   "cell_type": "code",
   "execution_count": 922,
   "metadata": {},
   "outputs": [
    {
     "name": "stdout",
     "output_type": "stream",
     "text": [
      "Cientista de Dados\n"
     ]
    }
   ],
   "source": [
    "# Exercício 10 - Considere a string abaixo. Imprima na tela apenas os caracteres da posição 1 a 18.\n",
    "frase = 'Cientista de Dados é o profissional mais sexy do século XXI'\n",
    "\n",
    "print(frase[:18])"
   ]
  }
 ],
 "metadata": {
  "kernelspec": {
   "display_name": "Python 3.9.7 ('base')",
   "language": "python",
   "name": "python3"
  },
  "language_info": {
   "codemirror_mode": {
    "name": "ipython",
    "version": 3
   },
   "file_extension": ".py",
   "mimetype": "text/x-python",
   "name": "python",
   "nbconvert_exporter": "python",
   "pygments_lexer": "ipython3",
   "version": "3.9.7"
  },
  "vscode": {
   "interpreter": {
    "hash": "f4c0fc474194c9464643f2ab1943bac9d41488fac94e66b1b0b365a0836334ba"
   }
  }
 },
 "nbformat": 4,
 "nbformat_minor": 1
}
